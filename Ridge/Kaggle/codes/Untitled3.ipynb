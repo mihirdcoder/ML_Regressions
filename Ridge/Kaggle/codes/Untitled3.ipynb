{
 "cells": [
  {
   "cell_type": "code",
   "execution_count": 1,
   "metadata": {},
   "outputs": [],
   "source": [
    "import pandas as pd\n",
    "import numpy as np\n",
    "import matplotlib.pyplot as plt"
   ]
  },
  {
   "cell_type": "code",
   "execution_count": 2,
   "metadata": {},
   "outputs": [],
   "source": [
    "def makeX(df):\n",
    "    return df.iloc[0:df.shape[0], 1:t_data.shape[1]].values\n",
    "def makeY(df):\n",
    "    return df.iloc[0:df.shape[0],1].values"
   ]
  },
  {
   "cell_type": "code",
   "execution_count": 3,
   "metadata": {},
   "outputs": [],
   "source": [
    "def bar(X):\n",
    "    X = np.transpose(X)\n",
    "    a = [np.full(X.shape[1],1)]\n",
    "    X = np.append(X,a,0)\n",
    "    return X"
   ]
  },
  {
   "cell_type": "code",
   "execution_count": 50,
   "metadata": {},
   "outputs": [],
   "source": [
    "def ridgeReg(X,Y,lam):\n",
    "    erra = []\n",
    "    add = 0\n",
    "    C = (np.dot(X,X.T) + (lam*np.identity(X.shape[0])))\n",
    "    Cinv = np.linalg.inv(C)\n",
    "    D = np.dot(X,Y)\n",
    "    W = np.dot(Cinv, D) #\n",
    "    for i in (0,X.shape[1]-1):\n",
    "        xi = X.T[i]\n",
    "        yi = Y[i]\n",
    "        err = ((np.dot(xi.T,W) - yi) / (1 - (np.dot(np.dot(xi.T,Cinv),xi))))\n",
    "        erra.append(err)\n",
    "    for err in erra:\n",
    "        add = add+(err**2)\n",
    "    rmse = np.sqrt(add)\n",
    "    obj = 0\n",
    "    return W[0:W.shape[0]-2],W[W.shape[0]-1],rmse,obj\n",
    "    "
   ]
  },
  {
   "cell_type": "code",
   "execution_count": 4,
   "metadata": {},
   "outputs": [],
   "source": [
    "def ridge(X,Y,lam):\n",
    "    C = (np.dot(X,X.T) + (lam*np.identity(X.shape[0])))\n",
    "    Cinv = np.linalg.inv(C)\n",
    "    D = np.dot(X,Y)\n",
    "    W = np.dot(Cinv, D)\n",
    "    return W                              #, W[W.shape[0]-1]"
   ]
  },
  {
   "cell_type": "code",
   "execution_count": 5,
   "metadata": {},
   "outputs": [],
   "source": [
    "def Loocv(X,Y,lam):\n",
    "    erra = []\n",
    "    add = 0\n",
    "    C = (np.dot(X,X.T) + (lam*np.identity(X.shape[0])))\n",
    "    Cinv = np.linalg.inv(C)\n",
    "    W = ridge(X,Y,lam)\n",
    "    for i in (0,X.shape[1]-1):\n",
    "        xi = X.T[i]\n",
    "        yi = Y[i]\n",
    "        err = ((np.dot(xi.T,W) - yi) / (1 - (np.dot(np.dot(xi.T,Cinv),xi))))\n",
    "        erra.append(err)\n",
    "    for err in erra:\n",
    "        add = add+(err**2)\n",
    "    rmse = np.sqrt(add)\n",
    "    return rmse"
   ]
  },
  {
   "cell_type": "code",
   "execution_count": 6,
   "metadata": {},
   "outputs": [],
   "source": [
    "def predict(X,W):\n",
    "    pred = np.dot(X.T,W)\n",
    "    return pred"
   ]
  },
  {
   "cell_type": "code",
   "execution_count": 7,
   "metadata": {},
   "outputs": [],
   "source": [
    "\n",
    "def rmse(vl, pred):\n",
    "    add = 0\n",
    "    err = vl-pred\n",
    "    for val in err:\n",
    "        add = add + (val ** 2)\n",
    "    rmse = np.sqrt((add/5000))\n",
    "    return rmse\n",
    "\n",
    "    \n"
   ]
  },
  {
   "cell_type": "code",
   "execution_count": 8,
   "metadata": {},
   "outputs": [],
   "source": [
    "t_data = pd.read_csv(\"trainData.csv\", header = None) \n",
    "tl_data = pd.read_csv(\"trainLabels.csv\", header = None)"
   ]
  },
  {
   "cell_type": "code",
   "execution_count": 11,
   "metadata": {},
   "outputs": [],
   "source": [
    "v_data = pd.read_csv(\"valData.csv\",header = None)\n",
    "vl_data = pd.read_csv(\"valLabels.csv\",header = None)"
   ]
  },
  {
   "cell_type": "code",
   "execution_count": 12,
   "metadata": {},
   "outputs": [],
   "source": [
    "Xtr = makeX(t_data)\n",
    "Ytr = makeY(tl_data)"
   ]
  },
  {
   "cell_type": "code",
   "execution_count": 13,
   "metadata": {},
   "outputs": [],
   "source": [
    "Valx = makeX(v_data)\n",
    "Valy = makeY(vl_data)"
   ]
  },
  {
   "cell_type": "code",
   "execution_count": 14,
   "metadata": {},
   "outputs": [],
   "source": [
    "ValX = Valx[:]\n",
    "ValY = Valy[:]    #watchout for small x and y"
   ]
  },
  {
   "cell_type": "code",
   "execution_count": 15,
   "metadata": {},
   "outputs": [],
   "source": [
    "ValX = bar(ValX)"
   ]
  },
  {
   "cell_type": "code",
   "execution_count": 14,
   "metadata": {},
   "outputs": [],
   "source": [
    "Xtre = Valx[0:4000]\n",
    "Ytre = Valy[0:4000]"
   ]
  },
  {
   "cell_type": "code",
   "execution_count": 16,
   "metadata": {},
   "outputs": [
    {
     "data": {
      "text/plain": [
       "(3001, 5000)"
      ]
     },
     "execution_count": 16,
     "metadata": {},
     "output_type": "execute_result"
    }
   ],
   "source": [
    "ValX.shape"
   ]
  },
  {
   "cell_type": "code",
   "execution_count": 17,
   "metadata": {},
   "outputs": [],
   "source": [
    "X = Xtr\n",
    "Y = Ytr"
   ]
  },
  {
   "cell_type": "code",
   "execution_count": 18,
   "metadata": {},
   "outputs": [
    {
     "data": {
      "text/plain": [
       "(5000, 3000)"
      ]
     },
     "execution_count": 18,
     "metadata": {},
     "output_type": "execute_result"
    }
   ],
   "source": [
    "X.shape"
   ]
  },
  {
   "cell_type": "code",
   "execution_count": 19,
   "metadata": {},
   "outputs": [
    {
     "data": {
      "text/plain": [
       "(3001, 5000)"
      ]
     },
     "execution_count": 19,
     "metadata": {},
     "output_type": "execute_result"
    }
   ],
   "source": [
    "X = bar(X)\n",
    "X.shape"
   ]
  },
  {
   "cell_type": "code",
   "execution_count": 21,
   "metadata": {},
   "outputs": [],
   "source": [
    "lam = [0.01,0.1,1,10,100,1000]"
   ]
  },
  {
   "cell_type": "code",
   "execution_count": 71,
   "metadata": {},
   "outputs": [
    {
     "data": {
      "text/plain": [
       "(3001, 5000)"
      ]
     },
     "execution_count": 71,
     "metadata": {},
     "output_type": "execute_result"
    }
   ],
   "source": [
    "X.shape"
   ]
  },
  {
   "cell_type": "code",
   "execution_count": 22,
   "metadata": {},
   "outputs": [
    {
     "data": {
      "text/plain": [
       "6"
      ]
     },
     "execution_count": 22,
     "metadata": {},
     "output_type": "execute_result"
    }
   ],
   "source": [
    "w = []\n",
    "for l in lam:\n",
    "    w.append(ridge(X,Y,l))\n",
    "len(w)"
   ]
  },
  {
   "cell_type": "code",
   "execution_count": 169,
   "metadata": {},
   "outputs": [
    {
     "data": {
      "text/plain": [
       "(3001,)"
      ]
     },
     "execution_count": 169,
     "metadata": {},
     "output_type": "execute_result"
    }
   ],
   "source": [
    "w[0].shape"
   ]
  },
  {
   "cell_type": "code",
   "execution_count": 23,
   "metadata": {},
   "outputs": [
    {
     "data": {
      "text/plain": [
       "6"
      ]
     },
     "execution_count": 23,
     "metadata": {},
     "output_type": "execute_result"
    }
   ],
   "source": [
    "preds = [] \n",
    "for W in w:\n",
    "    preds.append(predict(ValX,W))\n",
    "len(preds)   "
   ]
  },
  {
   "cell_type": "code",
   "execution_count": 27,
   "metadata": {},
   "outputs": [],
   "source": [
    "errors = []\n",
    "for pred in preds:\n",
    "    errors.append(rmse(ValY,pred))"
   ]
  },
  {
   "cell_type": "code",
   "execution_count": 29,
   "metadata": {},
   "outputs": [],
   "source": [
    "val_error = errors"
   ]
  },
  {
   "cell_type": "code",
   "execution_count": 30,
   "metadata": {},
   "outputs": [
    {
     "data": {
      "text/plain": [
       "6"
      ]
     },
     "execution_count": 30,
     "metadata": {},
     "output_type": "execute_result"
    }
   ],
   "source": [
    "preds = [] \n",
    "for W in w:\n",
    "    preds.append(predict(X,W))\n",
    "len(preds)  "
   ]
  },
  {
   "cell_type": "code",
   "execution_count": 31,
   "metadata": {},
   "outputs": [],
   "source": [
    "errors = []\n",
    "for pred in preds:\n",
    "    errors.append(rmse(Y,pred))"
   ]
  },
  {
   "cell_type": "code",
   "execution_count": 32,
   "metadata": {},
   "outputs": [],
   "source": [
    "train_error = errors"
   ]
  },
  {
   "cell_type": "code",
   "execution_count": 33,
   "metadata": {},
   "outputs": [
    {
     "data": {
      "text/plain": [
       "[1.1204952813069096,\n",
       " 1.222956840332517,\n",
       " 1.5685871891911598,\n",
       " 2.168437453524687,\n",
       " 3.4814321724863753,\n",
       " 14.30563531307903]"
      ]
     },
     "execution_count": 33,
     "metadata": {},
     "output_type": "execute_result"
    }
   ],
   "source": [
    "train_error"
   ]
  },
  {
   "cell_type": "code",
   "execution_count": null,
   "metadata": {},
   "outputs": [],
   "source": []
  },
  {
   "cell_type": "code",
   "execution_count": 34,
   "metadata": {},
   "outputs": [],
   "source": [
    "rmsel = []\n",
    "for l in lam:\n",
    "    rmsel.append(Loocv(X,Y,l))"
   ]
  },
  {
   "cell_type": "code",
   "execution_count": 37,
   "metadata": {},
   "outputs": [],
   "source": [
    "loocv_error = rmsel "
   ]
  },
  {
   "cell_type": "code",
   "execution_count": 39,
   "metadata": {},
   "outputs": [
    {
     "data": {
      "text/plain": [
       "[0.01, 0.1, 1, 10, 100, 1000]"
      ]
     },
     "execution_count": 39,
     "metadata": {},
     "output_type": "execute_result"
    }
   ],
   "source": [
    "lam"
   ]
  },
  {
   "cell_type": "code",
   "execution_count": 43,
   "metadata": {},
   "outputs": [
    {
     "data": {
      "text/plain": [
       "<matplotlib.legend.Legend at 0x7f88cf7c9cc0>"
      ]
     },
     "execution_count": 43,
     "metadata": {},
     "output_type": "execute_result"
    },
    {
     "data": {
      "image/png": "[encoded data removed]",
      "text/plain": [
       "<Figure size 432x288 with 1 Axes>"
      ]
     },
     "metadata": {},
     "output_type": "display_data"
    }
   ],
   "source": [
    "plt.semilogx(lam,train_error,label = \"Train Error\")\n",
    "plt.semilogx(lam,val_error,label = \"Validation Error\")\n",
    "plt.semilogx(lam,loocv_error,label = \"Loocv Error\")\n",
    "plt.savefig(\"error_plot\")\n",
    "plt.legend()\n"
   ]
  },
  {
   "cell_type": "code",
   "execution_count": null,
   "metadata": {},
   "outputs": [],
   "source": [
    "b = preds[0]\n",
    "b.mean()"
   ]
  },
  {
   "cell_type": "code",
   "execution_count": null,
   "metadata": {},
   "outputs": [],
   "source": [
    "err = ValY - b"
   ]
  },
  {
   "cell_type": "code",
   "execution_count": null,
   "metadata": {},
   "outputs": [],
   "source": [
    "ValY"
   ]
  },
  {
   "cell_type": "code",
   "execution_count": null,
   "metadata": {},
   "outputs": [],
   "source": [
    "X.shape"
   ]
  },
  {
   "cell_type": "code",
   "execution_count": null,
   "metadata": {},
   "outputs": [],
   "source": [
    "Z = X.T\n",
    "A = Z[0]\n",
    "A.shape"
   ]
  },
  {
   "cell_type": "code",
   "execution_count": 196,
   "metadata": {},
   "outputs": [],
   "source": [
    "Z = [10.25,14.36,18,71]"
   ]
  },
  {
   "cell_type": "code",
   "execution_count": 69,
   "metadata": {},
   "outputs": [
    {
     "data": {
      "text/plain": [
       "184"
      ]
     },
     "execution_count": 69,
     "metadata": {},
     "output_type": "execute_result"
    }
   ],
   "source": [
    "r = W.argsort()\n",
    "r[2999]"
   ]
  },
  {
   "cell_type": "code",
   "execution_count": 70,
   "metadata": {},
   "outputs": [
    {
     "data": {
      "text/plain": [
       "7.056741726442397"
      ]
     },
     "execution_count": 70,
     "metadata": {},
     "output_type": "execute_result"
    }
   ],
   "source": [
    "W[184]"
   ]
  },
  {
   "cell_type": "code",
   "execution_count": 44,
   "metadata": {},
   "outputs": [],
   "source": [
    "W = w[2]"
   ]
  },
  {
   "cell_type": "code",
   "execution_count": 47,
   "metadata": {},
   "outputs": [
    {
     "data": {
      "text/plain": [
       "1.5685871891911598"
      ]
     },
     "execution_count": 47,
     "metadata": {},
     "output_type": "execute_result"
    }
   ],
   "source": [
    "train_error[2]"
   ]
  },
  {
   "cell_type": "code",
   "execution_count": 45,
   "metadata": {},
   "outputs": [],
   "source": [
    "obj = np.dot(W.T,W) + train_error[2]"
   ]
  },
  {
   "cell_type": "code",
   "execution_count": 46,
   "metadata": {},
   "outputs": [
    {
     "data": {
      "text/plain": [
       "11916.91634962708"
      ]
     },
     "execution_count": 46,
     "metadata": {},
     "output_type": "execute_result"
    }
   ],
   "source": [
    "obj"
   ]
  },
  {
   "cell_type": "code",
   "execution_count": null,
   "metadata": {},
   "outputs": [],
   "source": [
    "C = (np.dot(X,X.T) + (1*np.identity(X.shape[0])))\n",
    "Cinv = np.linalg.inv(C)"
   ]
  },
  {
   "cell_type": "code",
   "execution_count": null,
   "metadata": {},
   "outputs": [],
   "source": [
    "Cinv.shape"
   ]
  },
  {
   "cell_type": "code",
   "execution_count": 19,
   "metadata": {},
   "outputs": [
    {
     "data": {
      "text/plain": [
       "(3001, 10000)"
      ]
     },
     "execution_count": 19,
     "metadata": {},
     "output_type": "execute_result"
    }
   ],
   "source": [
    "X.shape"
   ]
  },
  {
   "cell_type": "code",
   "execution_count": 19,
   "metadata": {},
   "outputs": [],
   "source": [
    "rmsel = []\n",
    "for l in lam:\n",
    "    rmsel.append(Loocv(X,Y,l))\n",
    "    \n",
    "    "
   ]
  },
  {
   "cell_type": "code",
   "execution_count": 20,
   "metadata": {},
   "outputs": [
    {
     "data": {
      "text/plain": [
       "[1.5139027012585224,\n",
       " 1.6095969764785583,\n",
       " 1.6588612644099834,\n",
       " 1.693596275240875,\n",
       " 1.7220568202790607,\n",
       " 1.7472704202778084,\n",
       " 1.770528447643568,\n",
       " 1.7924276369455605,\n",
       " 1.8132584624093213,\n",
       " 1.8331691254978606]"
      ]
     },
     "execution_count": 20,
     "metadata": {},
     "output_type": "execute_result"
    }
   ],
   "source": [
    "rmsel"
   ]
  },
  {
   "cell_type": "code",
   "execution_count": 23,
   "metadata": {},
   "outputs": [],
   "source": [
    "W = w[4]"
   ]
  },
  {
   "cell_type": "code",
   "execution_count": 191,
   "metadata": {},
   "outputs": [
    {
     "data": {
      "text/plain": [
       "array([85, 91, 93, 88, 86, 85, 84, 85, 94, 89, 89, 90, 85, 90, 89, 92, 89,\n",
       "       89, 82, 91, 86, 93, 81, 83, 82, 91, 97, 85, 87, 88, 92, 84, 90, 82,\n",
       "       86, 89, 93, 89, 86, 90, 82, 89, 85, 93, 90, 94, 88, 87, 88, 91, 90,\n",
       "       88, 90, 85, 95, 89, 87, 90, 87, 88, 93, 84, 82, 87, 89, 83, 89, 90,\n",
       "       97, 86, 91, 84, 86, 90, 84, 87, 88, 92, 83, 88, 87, 87, 92, 87, 89,\n",
       "       85, 84, 87, 94, 82, 92, 91, 90, 87, 90, 86, 90, 85, 85, 93, 87, 92,\n",
       "       92, 87, 90, 85, 94, 90, 87, 90, 90, 84, 88, 87, 92, 90, 91, 93, 88,\n",
       "       88, 86, 93, 88, 87, 85, 83, 85, 91, 87, 88, 93, 90, 86, 90, 87, 92,\n",
       "       85, 90, 90, 91, 86, 91, 95, 92, 85, 87, 89, 92, 94, 93, 87, 90, 92,\n",
       "       85, 87, 86, 92, 88, 93, 82, 91, 88, 83, 87, 88, 88, 91, 86, 91, 92,\n",
       "       85, 88, 88, 89, 92, 87, 95, 85, 82, 84, 89, 85, 92, 82, 91, 88, 87,\n",
       "       85, 92, 91, 91, 87, 89, 91, 83, 99, 91, 83, 92, 84])"
      ]
     },
     "execution_count": 191,
     "metadata": {},
     "output_type": "execute_result"
    }
   ],
   "source": [
    "ValY[0:200]"
   ]
  },
  {
   "cell_type": "code",
   "execution_count": 25,
   "metadata": {},
   "outputs": [],
   "source": [
    "errors = []\n",
    "for pred in preds:\n",
    "    errors.append(rmse(ValY,pred))\n",
    "    "
   ]
  },
  {
   "cell_type": "code",
   "execution_count": null,
   "metadata": {},
   "outputs": [],
   "source": []
  },
  {
   "cell_type": "code",
   "execution_count": null,
   "metadata": {},
   "outputs": [],
   "source": []
  },
  {
   "cell_type": "code",
   "execution_count": 51,
   "metadata": {},
   "outputs": [],
   "source": [
    "a,z,e,q = ridgeReg(X,Y,1)"
   ]
  },
  {
   "cell_type": "code",
   "execution_count": 56,
   "metadata": {},
   "outputs": [
    {
     "data": {
      "text/plain": [
       "0"
      ]
     },
     "execution_count": 56,
     "metadata": {},
     "output_type": "execute_result"
    }
   ],
   "source": [
    "q"
   ]
  },
  {
   "cell_type": "code",
   "execution_count": null,
   "metadata": {},
   "outputs": [],
   "source": []
  },
  {
   "cell_type": "code",
   "execution_count": null,
   "metadata": {},
   "outputs": [],
   "source": []
  },
  {
   "cell_type": "code",
   "execution_count": null,
   "metadata": {},
   "outputs": [],
   "source": []
  },
  {
   "cell_type": "code",
   "execution_count": null,
   "metadata": {},
   "outputs": [],
   "source": [
    "print(\"Hii mihir is no {}\".format(1))"
   ]
  },
  {
   "cell_type": "code",
   "execution_count": 200,
   "metadata": {},
   "outputs": [
    {
     "data": {
      "text/plain": [
       "0.8752142594816426"
      ]
     },
     "execution_count": 200,
     "metadata": {},
     "output_type": "execute_result"
    }
   ],
   "source": [
    "d = rmse(ValY,np.floor(pred))\n",
    "d"
   ]
  },
  {
   "cell_type": "code",
   "execution_count": null,
   "metadata": {},
   "outputs": [],
   "source": []
  },
  {
   "cell_type": "code",
   "execution_count": null,
   "metadata": {},
   "outputs": [],
   "source": []
  },
  {
   "cell_type": "code",
   "execution_count": 26,
   "metadata": {},
   "outputs": [
    {
     "name": "stdout",
     "output_type": "stream",
     "text": [
      "lambda: 0.01 error: 2.579044903824746\n",
      "lambda: 0.1 error: 2.1557423907528617\n",
      "lambda: 1 error: 1.9835860902507114\n",
      "lambda: 10 error: 2.322044052126761\n",
      "lambda: 100 error: 3.522936918785193\n",
      "lambda: 1000 error: 14.318915675050853\n"
     ]
    }
   ],
   "source": [
    "for i in range(0,len(errors)):\n",
    "    print(\"lambda: {} error: {}\".format(lam[i],errors[i]))"
   ]
  },
  {
   "cell_type": "code",
   "execution_count": null,
   "metadata": {},
   "outputs": [],
   "source": [
    "Vv = V[4000:5000] "
   ]
  },
  {
   "cell_type": "code",
   "execution_count": null,
   "metadata": {},
   "outputs": [],
   "source": [
    "W = ridge(X,Y,0.7)"
   ]
  },
  {
   "cell_type": "code",
   "execution_count": null,
   "metadata": {},
   "outputs": [],
   "source": [
    "W1 = w[6]"
   ]
  },
  {
   "cell_type": "code",
   "execution_count": null,
   "metadata": {},
   "outputs": [],
   "source": [
    "s = predict(ValX,W)"
   ]
  },
  {
   "cell_type": "code",
   "execution_count": null,
   "metadata": {},
   "outputs": [],
   "source": [
    "error = rmse(ValY,s)"
   ]
  },
  {
   "cell_type": "code",
   "execution_count": null,
   "metadata": {},
   "outputs": [],
   "source": [
    "error"
   ]
  },
  {
   "cell_type": "code",
   "execution_count": null,
   "metadata": {},
   "outputs": [],
   "source": [
    "Vyx = Vy[0:4000]"
   ]
  },
  {
   "cell_type": "code",
   "execution_count": null,
   "metadata": {},
   "outputs": [],
   "source": [
    "Vyv = Vy[4000: 5000]"
   ]
  },
  {
   "cell_type": "code",
   "execution_count": null,
   "metadata": {},
   "outputs": [],
   "source": [
    "V.shape"
   ]
  },
  {
   "cell_type": "code",
   "execution_count": null,
   "metadata": {},
   "outputs": [],
   "source": [
    "XN = np.append(X,Vx,axis = 0)"
   ]
  },
  {
   "cell_type": "code",
   "execution_count": null,
   "metadata": {},
   "outputs": [],
   "source": [
    "YN = np.append(Y,Vyx,0)"
   ]
  },
  {
   "cell_type": "code",
   "execution_count": null,
   "metadata": {},
   "outputs": [],
   "source": [
    "YN.shape"
   ]
  },
  {
   "cell_type": "code",
   "execution_count": null,
   "metadata": {},
   "outputs": [],
   "source": [
    "XN = bar(XN)"
   ]
  },
  {
   "cell_type": "code",
   "execution_count": null,
   "metadata": {},
   "outputs": [],
   "source": [
    "w = ridge(XN,YN,1)"
   ]
  },
  {
   "cell_type": "code",
   "execution_count": null,
   "metadata": {},
   "outputs": [],
   "source": [
    "pred = predict(Vv,w)"
   ]
  },
  {
   "cell_type": "code",
   "execution_count": null,
   "metadata": {},
   "outputs": [],
   "source": [
    "rmse1s = rmse(Vyv,pred)"
   ]
  },
  {
   "cell_type": "code",
   "execution_count": null,
   "metadata": {},
   "outputs": [],
   "source": [
    "rmse1s"
   ]
  },
  {
   "cell_type": "code",
   "execution_count": null,
   "metadata": {},
   "outputs": [],
   "source": [
    "X = makeX(t_data)\n",
    "Y = makeY(tl_data)"
   ]
  },
  {
   "cell_type": "code",
   "execution_count": null,
   "metadata": {},
   "outputs": [],
   "source": [
    "X = bar(X)\n",
    "X.shape"
   ]
  },
  {
   "cell_type": "code",
   "execution_count": 147,
   "metadata": {},
   "outputs": [],
   "source": [
    "test0 = pd.read_csv(\"testData.csv\",header= None)"
   ]
  },
  {
   "cell_type": "code",
   "execution_count": 148,
   "metadata": {},
   "outputs": [],
   "source": [
    "test0 = makeX(test0)"
   ]
  },
  {
   "cell_type": "code",
   "execution_count": 149,
   "metadata": {},
   "outputs": [],
   "source": [
    "test0 = bar(test0)"
   ]
  },
  {
   "cell_type": "code",
   "execution_count": 150,
   "metadata": {},
   "outputs": [],
   "source": [
    "pred = predict(test0,W)"
   ]
  },
  {
   "cell_type": "code",
   "execution_count": 151,
   "metadata": {},
   "outputs": [
    {
     "data": {
      "text/plain": [
       "(5000,)"
      ]
     },
     "execution_count": 151,
     "metadata": {},
     "output_type": "execute_result"
    }
   ],
   "source": [
    "id4 = np.arange(0,5000)\n",
    "id1.shape"
   ]
  },
  {
   "cell_type": "code",
   "execution_count": 152,
   "metadata": {},
   "outputs": [],
   "source": [
    "df3 = pd.DataFrame()\n",
    "df3['Id'] = id4\n",
    "df3['Prediction'] = pred"
   ]
  },
  {
   "cell_type": "code",
   "execution_count": 154,
   "metadata": {},
   "outputs": [],
   "source": [
    "df3.to_csv(\"predTestLabels.csv\")"
   ]
  },
  {
   "cell_type": "code",
   "execution_count": 146,
   "metadata": {},
   "outputs": [],
   "source": [
    "W = w[7]"
   ]
  },
  {
   "cell_type": "code",
   "execution_count": 133,
   "metadata": {},
   "outputs": [
    {
     "data": {
      "text/plain": [
       "array([ 8.77775011e-02,  3.68405235e+00,  1.86203563e+00, -5.79726007e-01,\n",
       "       -3.47845275e-01,  1.50549823e+00, -1.02366244e+00,  1.69110684e+00,\n",
       "       -3.88761592e-01, -1.16932961e+00, -5.00089189e-01, -1.29721406e+00,\n",
       "        1.24268708e+00, -2.95110020e-01, -1.80591194e-01,  8.74306891e-01,\n",
       "        1.83318731e+00,  3.60111485e-01, -1.15018087e+00,  2.34430739e+00,\n",
       "        5.07527436e-01,  1.03585764e+00, -1.27008123e+00,  1.02267246e+00,\n",
       "        9.53660704e-01, -3.36805686e-01, -1.06227656e+00, -1.06878263e+00,\n",
       "       -3.69437791e-01, -7.40582470e-01,  9.70862184e-01, -3.51243179e-01,\n",
       "        2.49026783e-01,  6.72662837e-02,  1.41256981e+00,  1.06757891e+00,\n",
       "        2.13833686e+00,  1.95929484e+00,  1.94142915e-01, -4.72209133e-01,\n",
       "       -8.27514944e-01, -2.70877542e+00, -3.91134475e-01,  2.70060643e+00,\n",
       "       -1.14058223e+00,  1.84932146e+00,  2.26570865e+00,  3.17558648e+00,\n",
       "       -8.95476444e-01,  3.87949939e-01,  2.18476069e+00,  6.38268719e-01,\n",
       "        1.82522917e+00,  9.57571069e-01,  3.68047914e+00, -1.06280039e+00,\n",
       "        2.31903537e+00, -1.05433670e+00,  7.67698502e-02, -9.07064631e-01,\n",
       "        4.92939559e-01,  1.49030994e+00,  8.18500899e-01,  7.21647397e-01,\n",
       "       -7.44548376e-01, -1.31290029e+00,  1.04928294e+00, -7.44062227e-01,\n",
       "       -2.01099657e-01,  2.29404871e+00,  1.08069874e+00,  9.79869555e-01,\n",
       "        8.80779962e-01,  3.64477095e+00, -2.60515963e-01, -1.31172723e+00,\n",
       "        1.91123889e-01,  1.59130767e+00, -7.52171591e-01, -3.57453396e-01,\n",
       "       -4.45774210e-01,  4.65344386e-01,  3.81208068e+00,  2.11146738e+00,\n",
       "        1.18083572e+00,  3.65210684e-01,  1.17336439e+00,  1.60742317e+00,\n",
       "        1.76242049e+00,  1.91304503e-01,  1.51854848e+00,  7.28404496e-01,\n",
       "        5.98820187e-01, -1.86290476e-01, -1.24909231e+00,  5.67020121e-01,\n",
       "       -1.22516451e+00, -1.40462436e-01,  1.46168945e+00,  6.31577950e-01,\n",
       "       -1.19382004e+00, -1.22076870e+00,  6.93964259e-04,  1.60202013e+00,\n",
       "        7.95550777e-01,  1.13786932e+00,  3.12383222e-01,  3.64234808e-01,\n",
       "        2.87216028e-01,  1.46997435e+00, -1.33533528e+00,  1.15162854e+00,\n",
       "        8.86630776e-01, -1.76913671e+00,  9.25348812e-01, -1.24175059e-01,\n",
       "        2.14231345e+00,  1.35126216e+00,  8.66285356e-01,  7.52881110e-01])"
      ]
     },
     "execution_count": 133,
     "metadata": {},
     "output_type": "execute_result"
    }
   ],
   "source": [
    "W[:120]"
   ]
  },
  {
   "cell_type": "code",
   "execution_count": 134,
   "metadata": {},
   "outputs": [],
   "source": [
    "id2=[]\n",
    "num=[]\n",
    "for i in range(0,W.shape[0]):\n",
    "    if(W[i] > 2 or W[i]< -2):\n",
    "        id2.append(i)\n",
    "        num.append(W[i])\n",
    "    \n"
   ]
  },
  {
   "cell_type": "code",
   "execution_count": 135,
   "metadata": {},
   "outputs": [
    {
     "data": {
      "text/plain": [
       "532"
      ]
     },
     "execution_count": 135,
     "metadata": {},
     "output_type": "execute_result"
    }
   ],
   "source": [
    "len(id2)"
   ]
  },
  {
   "cell_type": "code",
   "execution_count": 136,
   "metadata": {},
   "outputs": [],
   "source": [
    "X_bar = []\n",
    "for i in id2:\n",
    "    X_bar.append(ValX[i])\n",
    "    \n",
    "    \n",
    "    "
   ]
  },
  {
   "cell_type": "code",
   "execution_count": 137,
   "metadata": {},
   "outputs": [
    {
     "data": {
      "text/plain": [
       "3001"
      ]
     },
     "execution_count": 137,
     "metadata": {},
     "output_type": "execute_result"
    }
   ],
   "source": [
    "len(X)"
   ]
  },
  {
   "cell_type": "code",
   "execution_count": null,
   "metadata": {},
   "outputs": [],
   "source": []
  },
  {
   "cell_type": "code",
   "execution_count": 138,
   "metadata": {},
   "outputs": [],
   "source": [
    "X_bar = np.asarray(X_bar)"
   ]
  },
  {
   "cell_type": "code",
   "execution_count": 139,
   "metadata": {},
   "outputs": [
    {
     "data": {
      "text/plain": [
       "(532, 1000)"
      ]
     },
     "execution_count": 139,
     "metadata": {},
     "output_type": "execute_result"
    }
   ],
   "source": [
    "X_bar.shape"
   ]
  },
  {
   "cell_type": "code",
   "execution_count": 144,
   "metadata": {},
   "outputs": [],
   "source": [
    "pred_bar = predict(X_bar,Wn)"
   ]
  },
  {
   "cell_type": "code",
   "execution_count": 145,
   "metadata": {},
   "outputs": [
    {
     "data": {
      "text/plain": [
       "1.4009170195274032"
      ]
     },
     "execution_count": 145,
     "metadata": {},
     "output_type": "execute_result"
    }
   ],
   "source": [
    "errr = rmse(ValY,pred_bar)\n",
    "errr"
   ]
  },
  {
   "cell_type": "code",
   "execution_count": 141,
   "metadata": {},
   "outputs": [],
   "source": [
    "Wn = np.asarray(num)"
   ]
  },
  {
   "cell_type": "code",
   "execution_count": 143,
   "metadata": {},
   "outputs": [
    {
     "data": {
      "text/plain": [
       "82.58674233266083"
      ]
     },
     "execution_count": 143,
     "metadata": {},
     "output_type": "execute_result"
    }
   ],
   "source": [
    "Wn[531]"
   ]
  }
 ],
 "metadata": {
  "kernelspec": {
   "display_name": "Python 3",
   "language": "python",
   "name": "python3"
  },
  "language_info": {
   "codemirror_mode": {
    "name": "ipython",
    "version": 3
   },
   "file_extension": ".py",
   "mimetype": "text/x-python",
   "name": "python",
   "nbconvert_exporter": "python",
   "pygments_lexer": "ipython3",
   "version": "3.5.2"
  }
 },
 "nbformat": 4,
 "nbformat_minor": 2
}
