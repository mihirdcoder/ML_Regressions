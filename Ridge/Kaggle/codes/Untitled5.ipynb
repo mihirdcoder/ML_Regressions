{
 "cells": [
  {
   "cell_type": "code",
   "execution_count": 1,
   "metadata": {},
   "outputs": [],
   "source": [
    "import pandas as pd\n",
    "import numpy as np\n",
    "import matplotlib.pyplot as plt"
   ]
  },
  {
   "cell_type": "code",
   "execution_count": 6,
   "metadata": {},
   "outputs": [],
   "source": [
    "def makeX(df):    #for making pandas dataframe to numpy ndarray and excluding column id\n",
    "    return df.iloc[0:df.shape[0], 1:t_data.shape[1]].values\n",
    "def makeY(df):\n",
    "    return df.iloc[0:df.shape[0],1].values"
   ]
  },
  {
   "cell_type": "code",
   "execution_count": 7,
   "metadata": {},
   "outputs": [],
   "source": [
    "def bar(X):             #making x x bar\n",
    "    X = np.transpose(X)\n",
    "    a = [np.full(X.shape[1],1)]\n",
    "    X = np.append(X,a,0)\n",
    "    return X"
   ]
  },
  {
   "cell_type": "code",
   "execution_count": 8,
   "metadata": {},
   "outputs": [],
   "source": [
    "def ridgeReg(X,Y,lam):\n",
    "    erra = []\n",
    "    add = 0\n",
    "    C = (np.dot(X,X.T) + (lam*np.identity(X.shape[0])))\n",
    "    Cinv = np.linalg.inv(C)\n",
    "    D = np.dot(X,Y)\n",
    "    W = np.dot(Cinv, D) #\n",
    "    for i in (0,X.shape[1]-1):\n",
    "        xi = X.T[i]\n",
    "        yi = Y[i]\n",
    "        err = ((np.dot(xi.T,W) - yi) / (1 - (np.dot(np.dot(xi.T,Cinv),xi))))\n",
    "        erra.append(err)\n",
    "    for err in erra:\n",
    "        add = add+(err**2)\n",
    "    obj =  lam * (np.dot(W.T,W))+add\n",
    "    rmse1 = np.sqrt(add)\n",
    "    return W[0:W.shape[0]-1],W[W.shape[0]-1],obj,rmse1\n",
    "    "
   ]
  },
  {
   "cell_type": "code",
   "execution_count": 9,
   "metadata": {},
   "outputs": [],
   "source": [
    "def ridge(X,Y,lam):  # I wrote this function before writing combined function ridgeReg for some modularity for kaggle competition\n",
    "    C = (np.dot(X,X.T) + (lam*np.identity(X.shape[0])))\n",
    "    Cinv = np.linalg.inv(C)\n",
    "    D = np.dot(X,Y)\n",
    "    W = np.dot(Cinv, D)\n",
    "    return W                              #, W[W.shape[0]-1]"
   ]
  },
  {
   "cell_type": "code",
   "execution_count": 10,
   "metadata": {},
   "outputs": [],
   "source": [
    "def Loocv(X,Y,lam):\n",
    "    erra = []\n",
    "    add = 0\n",
    "    C = (np.dot(X,X.T) + (lam*np.identity(X.shape[0])))\n",
    "    Cinv = np.linalg.inv(C)\n",
    "    W = ridge(X,Y,lam)\n",
    "    for i in (0,X.shape[1]-1):\n",
    "        xi = X.T[i]\n",
    "        yi = Y[i]\n",
    "        err = ((np.dot(xi.T,W) - yi) / (1 - (np.dot(np.dot(xi.T,Cinv),xi))))\n",
    "        erra.append(err)\n",
    "    for err in erra:\n",
    "        add = add+(err**2)\n",
    "    rmse = np.sqrt(add)\n",
    "    return rmse"
   ]
  },
  {
   "cell_type": "code",
   "execution_count": 11,
   "metadata": {},
   "outputs": [],
   "source": [
    "def predict(X,W):\n",
    "    pred = np.dot(X.T,W)\n",
    "    return pred"
   ]
  },
  {
   "cell_type": "code",
   "execution_count": 52,
   "metadata": {},
   "outputs": [],
   "source": [
    "def rmse(vl, pred):\n",
    "    add = 0\n",
    "    err = vl-pred\n",
    "    for val in err:\n",
    "        add = add + (val ** 2)\n",
    "    rmse = np.sqrt((add/1000))\n",
    "    return rmse\n",
    "\n",
    "    \n"
   ]
  },
  {
   "cell_type": "code",
   "execution_count": 24,
   "metadata": {},
   "outputs": [],
   "source": [
    "lam = np.arange(0.1,1.1,0.1)"
   ]
  },
  {
   "cell_type": "code",
   "execution_count": 2,
   "metadata": {},
   "outputs": [],
   "source": [
    "t_data = pd.read_csv(\"trainData.csv\", header = None) \n",
    "tl_data = pd.read_csv(\"trainLabels.csv\", header = None)"
   ]
  },
  {
   "cell_type": "code",
   "execution_count": 3,
   "metadata": {},
   "outputs": [],
   "source": [
    "v_data = pd.read_csv(\"valData.csv\",header = None)\n",
    "vl_data = pd.read_csv(\"valLabels.csv\",header = None)"
   ]
  },
  {
   "cell_type": "code",
   "execution_count": 18,
   "metadata": {},
   "outputs": [],
   "source": [
    "Xtr = makeX(t_data)\n",
    "Ytr = makeY(tl_data)"
   ]
  },
  {
   "cell_type": "code",
   "execution_count": 13,
   "metadata": {},
   "outputs": [],
   "source": [
    "Valx = makeX(v_data)\n",
    "Valy = makeY(vl_data)"
   ]
  },
  {
   "cell_type": "code",
   "execution_count": 20,
   "metadata": {},
   "outputs": [],
   "source": [
    "Xtre = Valx[0:4000]\n",
    "Ytre = Valy[0:4000]"
   ]
  },
  {
   "cell_type": "code",
   "execution_count": 14,
   "metadata": {},
   "outputs": [],
   "source": [
    "ValX = Valx[4000:5000]\n",
    "ValY = Valy[4000:5000] "
   ]
  },
  {
   "cell_type": "code",
   "execution_count": 21,
   "metadata": {},
   "outputs": [],
   "source": [
    "X = np.append(Xtr,Xtre,0)\n",
    "Y = np.append(Ytr,Ytre,0)"
   ]
  },
  {
   "cell_type": "code",
   "execution_count": 22,
   "metadata": {},
   "outputs": [
    {
     "data": {
      "text/plain": [
       "(9000, 3000)"
      ]
     },
     "execution_count": 22,
     "metadata": {},
     "output_type": "execute_result"
    }
   ],
   "source": [
    "X.shape"
   ]
  },
  {
   "cell_type": "code",
   "execution_count": 23,
   "metadata": {},
   "outputs": [],
   "source": [
    "X = bar(X)"
   ]
  },
  {
   "cell_type": "code",
   "execution_count": 25,
   "metadata": {},
   "outputs": [],
   "source": [
    "ws = []\n",
    "bs = []\n",
    "es = []\n",
    "ofs = []\n",
    "\n"
   ]
  },
  {
   "cell_type": "code",
   "execution_count": 26,
   "metadata": {},
   "outputs": [],
   "source": [
    "for l in lam:\n",
    "    a,b,c,d = ridgeReg(X,Y,l)\n",
    "    ws.append(a)\n",
    "    bs.append(b)\n",
    "    ofs.append(c)\n",
    "    es.append(d)"
   ]
  },
  {
   "cell_type": "code",
   "execution_count": 27,
   "metadata": {},
   "outputs": [
    {
     "data": {
      "text/plain": [
       "[1.5139027012585224,\n",
       " 1.6095969764785583,\n",
       " 1.6588612644099834,\n",
       " 1.693596275240875,\n",
       " 1.7220568202790607,\n",
       " 1.7472704202778084,\n",
       " 1.770528447643568,\n",
       " 1.7924276369455605,\n",
       " 1.8132584624093213,\n",
       " 1.8331691254978606]"
      ]
     },
     "execution_count": 27,
     "metadata": {},
     "output_type": "execute_result"
    }
   ],
   "source": [
    "es"
   ]
  },
  {
   "cell_type": "code",
   "execution_count": 28,
   "metadata": {},
   "outputs": [],
   "source": [
    "ValX = bar(ValX)"
   ]
  },
  {
   "cell_type": "code",
   "execution_count": 44,
   "metadata": {},
   "outputs": [],
   "source": [
    "pred = []\n",
    "for w in ws:\n",
    "    pred.append(predict(np.append(w,[bs[0]],0),ValX))\n"
   ]
  },
  {
   "cell_type": "code",
   "execution_count": 46,
   "metadata": {},
   "outputs": [
    {
     "data": {
      "text/plain": [
       "10"
      ]
     },
     "execution_count": 46,
     "metadata": {},
     "output_type": "execute_result"
    }
   ],
   "source": [
    "len(pred)"
   ]
  },
  {
   "cell_type": "code",
   "execution_count": 58,
   "metadata": {},
   "outputs": [
    {
     "data": {
      "text/plain": [
       "10"
      ]
     },
     "execution_count": 58,
     "metadata": {},
     "output_type": "execute_result"
    }
   ],
   "source": [
    "err = []\n",
    "for pre in pred:\n",
    "    err.append(rmse(pre,ValY))\n",
    "len(err)"
   ]
  },
  {
   "cell_type": "code",
   "execution_count": 59,
   "metadata": {},
   "outputs": [
    {
     "data": {
      "text/plain": [
       "[1.975066897538898,\n",
       " 1.964146528230607,\n",
       " 2.004962318568511,\n",
       " 2.063436616645375,\n",
       " 2.1269429081270346,\n",
       " 2.190317599990449,\n",
       " 2.2514054556245604,\n",
       " 2.3093651632851344,\n",
       " 2.363955284922542,\n",
       " 2.415211804220919]"
      ]
     },
     "execution_count": 59,
     "metadata": {},
     "output_type": "execute_result"
    }
   ],
   "source": [
    "err"
   ]
  },
  {
   "cell_type": "code",
   "execution_count": 34,
   "metadata": {},
   "outputs": [],
   "source": [
    "test0 = pd.read_csv(\"testData.csv\",header= None)"
   ]
  },
  {
   "cell_type": "code",
   "execution_count": 35,
   "metadata": {},
   "outputs": [],
   "source": [
    "test0 = makeX(test0)"
   ]
  },
  {
   "cell_type": "code",
   "execution_count": 36,
   "metadata": {},
   "outputs": [],
   "source": [
    "test0 = bar(test0)"
   ]
  },
  {
   "cell_type": "code",
   "execution_count": 38,
   "metadata": {},
   "outputs": [],
   "source": [
    "pred = predict(test0,np.append(ws[0],[bs[0]],0))"
   ]
  },
  {
   "cell_type": "code",
   "execution_count": 39,
   "metadata": {},
   "outputs": [
    {
     "data": {
      "text/plain": [
       "(5000,)"
      ]
     },
     "execution_count": 39,
     "metadata": {},
     "output_type": "execute_result"
    }
   ],
   "source": [
    "id4 = np.arange(0,5000)\n",
    "id4.shape"
   ]
  },
  {
   "cell_type": "code",
   "execution_count": 40,
   "metadata": {},
   "outputs": [],
   "source": [
    "df3 = pd.DataFrame()\n",
    "df3['Id'] = id4\n",
    "df3['Prediction'] = pred\n",
    "df3.to_csv(\"predTestLabels.csv\")"
   ]
  },
  {
   "cell_type": "code",
   "execution_count": 60,
   "metadata": {},
   "outputs": [],
   "source": [
    "W = np.append(ws[1],[bs[1]],0)"
   ]
  },
  {
   "cell_type": "code",
   "execution_count": 70,
   "metadata": {},
   "outputs": [],
   "source": [
    "sorted_w = np.argsort(W)"
   ]
  },
  {
   "cell_type": "code",
   "execution_count": 73,
   "metadata": {},
   "outputs": [],
   "source": [
    "for w in sorted_w[2800:3000]:\n",
    "    X_new = X.T[w]"
   ]
  },
  {
   "cell_type": "code",
   "execution_count": 75,
   "metadata": {},
   "outputs": [
    {
     "data": {
      "text/plain": [
       "array([0., 0., 0., ..., 0., 0., 1.])"
      ]
     },
     "execution_count": 75,
     "metadata": {},
     "output_type": "execute_result"
    }
   ],
   "source": [
    "X_new"
   ]
  }
 ],
 "metadata": {
  "kernelspec": {
   "display_name": "Python 3",
   "language": "python",
   "name": "python3"
  },
  "language_info": {
   "codemirror_mode": {
    "name": "ipython",
    "version": 3
   },
   "file_extension": ".py",
   "mimetype": "text/x-python",
   "name": "python",
   "nbconvert_exporter": "python",
   "pygments_lexer": "ipython3",
   "version": "3.5.2"
  }
 },
 "nbformat": 4,
 "nbformat_minor": 2
}
