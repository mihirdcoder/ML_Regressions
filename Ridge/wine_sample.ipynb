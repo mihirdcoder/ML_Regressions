{
 "cells": [
  {
   "cell_type": "code",
   "execution_count": 2,
   "metadata": {},
   "outputs": [],
   "source": [
    "import pandas as pd\n",
    "import numpy as np\n",
    "import matplotlib.pyplot as plt"
   ]
  },
  {
   "cell_type": "code",
   "execution_count": 3,
   "metadata": {},
   "outputs": [],
   "source": [
    "def makeX(df):    #for making pandas dataframe to numpy ndarray and excluding column id\n",
    "    return df.iloc[0:df.shape[0], 1:t_data.shape[1]].values\n",
    "def makeY(df):\n",
    "    return df.iloc[0:df.shape[0],1].values"
   ]
  },
  {
   "cell_type": "code",
   "execution_count": 78,
   "metadata": {},
   "outputs": [],
   "source": [
    "def bar(X):             #making x x bar\n",
    "    X = np.transpose(X)\n",
    "    a = [np.full(X.shape[1],1)]\n",
    "    X = np.append(X,a,0)\n",
    "    return X"
   ]
  },
  {
   "cell_type": "code",
   "execution_count": 79,
   "metadata": {},
   "outputs": [],
   "source": [
    "def ridgeReg(X,Y,lam):\n",
    "    erra = []\n",
    "    add = 0\n",
    "    C = (np.dot(X,X.T) + (lam*np.identity(X.shape[0])))\n",
    "    Cinv = np.linalg.inv(C)\n",
    "    D = np.dot(X,Y)\n",
    "    W = np.dot(Cinv, D) #\n",
    "    for i in (0,X.shape[1]-1):\n",
    "        xi = X.T[i]\n",
    "        yi = Y[i]\n",
    "        err = ((np.dot(xi.T,W) - yi) / (1 - (np.dot(np.dot(xi.T,Cinv),xi))))\n",
    "        erra.append(err)\n",
    "    for err in erra:\n",
    "        add = add+(err**2)\n",
    "    obj =  lam * (np.dot(W.T,W))+add\n",
    "    rmse1 = np.sqrt(add)\n",
    "    return W[0:W.shape[0]-1],W[W.shape[0]-1],obj,rmse1\n",
    "    "
   ]
  },
  {
   "cell_type": "code",
   "execution_count": 6,
   "metadata": {},
   "outputs": [],
   "source": [
    "def ridge(X,Y,lam):  # I wrote this function before writing combined function ridgeReg for some modularity for kaggle competition\n",
    "    C = (np.dot(X,X.T) + (lam*np.identity(X.shape[0])))\n",
    "    Cinv = np.linalg.inv(C)\n",
    "    D = np.dot(X,Y)\n",
    "    W = np.dot(Cinv, D)\n",
    "    return W                              #, W[W.shape[0]-1]"
   ]
  },
  {
   "cell_type": "code",
   "execution_count": 7,
   "metadata": {},
   "outputs": [],
   "source": [
    "def Loocv(X,Y,lam):\n",
    "    erra = []\n",
    "    add = 0\n",
    "    C = (np.dot(X,X.T) + (lam*np.identity(X.shape[0])))\n",
    "    Cinv = np.linalg.inv(C)\n",
    "    W = ridge(X,Y,lam)\n",
    "    for i in (0,X.shape[1]-1):\n",
    "        xi = X.T[i]\n",
    "        yi = Y[i]\n",
    "        err = ((np.dot(xi.T,W) - yi) / (1 - (np.dot(np.dot(xi.T,Cinv),xi))))\n",
    "        erra.append(err)\n",
    "    for err in erra:\n",
    "        add = add+(err**2)\n",
    "    rmse = np.sqrt(add)\n",
    "    return rmse"
   ]
  },
  {
   "cell_type": "code",
   "execution_count": 8,
   "metadata": {},
   "outputs": [],
   "source": [
    "def predict(X,W):\n",
    "    pred = np.dot(X.T,W)\n",
    "    return pred"
   ]
  },
  {
   "cell_type": "code",
   "execution_count": 9,
   "metadata": {},
   "outputs": [],
   "source": [
    "def rmse(vl, pred):\n",
    "    add = 0\n",
    "    err = vl-pred\n",
    "    for val in err:\n",
    "        add = add + (val ** 2)\n",
    "    rmse = np.sqrt((add/5000))\n",
    "    return rmse\n",
    "\n",
    "    \n"
   ]
  },
  {
   "cell_type": "code",
   "execution_count": 10,
   "metadata": {},
   "outputs": [],
   "source": [
    "lam = [0.01,0.1,1,10,100,1000]"
   ]
  },
  {
   "cell_type": "code",
   "execution_count": 11,
   "metadata": {},
   "outputs": [],
   "source": [
    "t_data = pd.read_csv(\"trainData.csv\", header = None) \n",
    "tl_data = pd.read_csv(\"trainLabels.csv\", header = None)"
   ]
  },
  {
   "cell_type": "code",
   "execution_count": 13,
   "metadata": {},
   "outputs": [],
   "source": [
    "Xtr = makeX(t_data)\n",
    "Ytr = makeY(tl_data)"
   ]
  },
  {
   "cell_type": "code",
   "execution_count": 81,
   "metadata": {},
   "outputs": [],
   "source": [
    "ws = []\n",
    "bs = []\n",
    "es = []\n",
    "ofs = []\n",
    "\n"
   ]
  },
  {
   "cell_type": "code",
   "execution_count": 18,
   "metadata": {},
   "outputs": [],
   "source": [
    "Xtr = bar(Xtr)"
   ]
  },
  {
   "cell_type": "code",
   "execution_count": 19,
   "metadata": {},
   "outputs": [
    {
     "data": {
      "text/plain": [
       "(3001, 5000)"
      ]
     },
     "execution_count": 19,
     "metadata": {},
     "output_type": "execute_result"
    }
   ],
   "source": [
    "Xtr.shape"
   ]
  },
  {
   "cell_type": "code",
   "execution_count": 82,
   "metadata": {},
   "outputs": [],
   "source": [
    "for l in lam:\n",
    "    a,b,c,d = ridgeReg(Xtr,Ytr,l)\n",
    "    ws.append(a)\n",
    "    bs.append(b)\n",
    "    ofs.append(c)\n",
    "    es.append(d)"
   ]
  },
  {
   "cell_type": "code",
   "execution_count": 83,
   "metadata": {},
   "outputs": [
    {
     "data": {
      "text/plain": [
       "[601.7979421923761,\n",
       " 2739.213902233741,\n",
       " 11916.353688852563,\n",
       " 81255.54738888383,\n",
       " 704342.423225494,\n",
       " 5124816.555027302]"
      ]
     },
     "execution_count": 83,
     "metadata": {},
     "output_type": "execute_result"
    }
   ],
   "source": [
    "ofs"
   ]
  },
  {
   "cell_type": "code",
   "execution_count": 59,
   "metadata": {},
   "outputs": [
    {
     "data": {
      "text/plain": [
       "[1.295097312473908,\n",
       " 0.8877556421335989,\n",
       " 1.0029588299999206,\n",
       " 2.74922641305236,\n",
       " 1.8617405483161362,\n",
       " 15.36920176545826]"
      ]
     },
     "execution_count": 59,
     "metadata": {},
     "output_type": "execute_result"
    }
   ],
   "source": [
    "es"
   ]
  },
  {
   "cell_type": "code",
   "execution_count": 53,
   "metadata": {},
   "outputs": [],
   "source": [
    "v_data = pd.read_csv(\"valData.csv\",header = None)\n",
    "vl_data = pd.read_csv(\"valLabels.csv\",header = None)"
   ]
  },
  {
   "cell_type": "code",
   "execution_count": 55,
   "metadata": {},
   "outputs": [],
   "source": [
    "ValX = makeX(v_data)\n",
    "valY = makeY(vl_data)\n",
    "ValX = bar(ValX)"
   ]
  },
  {
   "cell_type": "code",
   "execution_count": 84,
   "metadata": {},
   "outputs": [
    {
     "data": {
      "text/plain": [
       "[2.579044903824746,\n",
       " 2.1557423907528617,\n",
       " 1.9835860902507114,\n",
       " 2.322044052126761,\n",
       " 3.522936918785193,\n",
       " 14.318915675050853]"
      ]
     },
     "execution_count": 84,
     "metadata": {},
     "output_type": "execute_result"
    }
   ],
   "source": [
    "val_error = []\n",
    "for i in range(0,len(ws)):\n",
    "    W = np.append(ws[i],[bs[i]],0)\n",
    "    val_pred = predict(ValX,W)\n",
    "    val_error.append(rmse(val_pred,valY))\n",
    "val_error"
   ]
  },
  {
   "cell_type": "code",
   "execution_count": 85,
   "metadata": {},
   "outputs": [
    {
     "data": {
      "text/plain": [
       "[1.1204952813069096,\n",
       " 1.222956840332517,\n",
       " 1.5685871891911598,\n",
       " 2.168437453524687,\n",
       " 3.4814321724863753,\n",
       " 14.30563531307903]"
      ]
     },
     "execution_count": 85,
     "metadata": {},
     "output_type": "execute_result"
    }
   ],
   "source": [
    "train_error = []\n",
    "for i in range(0,len(ws)):\n",
    "    W = np.append(ws[i],[bs[i]],0)\n",
    "    val_pred = predict(Xtr,W)\n",
    "    train_error.append(rmse(val_pred,Ytr))\n",
    "train_error"
   ]
  },
  {
   "cell_type": "code",
   "execution_count": 65,
   "metadata": {},
   "outputs": [
    {
     "data": {
      "text/plain": [
       "<matplotlib.legend.Legend at 0x7fb4030a82b0>"
      ]
     },
     "execution_count": 65,
     "metadata": {},
     "output_type": "execute_result"
    },
    {
     "data": {
      "image/png": "[encoded data removed]",
      "text/plain": [
       "<Figure size 432x288 with 1 Axes>"
      ]
     },
     "metadata": {},
     "output_type": "display_data"
    }
   ],
   "source": [
    "plt.semilogx(lam,train_error,label = \"Train Error\")\n",
    "plt.semilogx(lam,val_error,label = \"Validation Error\")\n",
    "plt.semilogx(lam,es,label = \"Loocv Error\")\n",
    "plt.xlabel(\"Lambda\")\n",
    "plt.ylabel(\"Error\")\n",
    "plt.savefig(\"error_plot1\")\n",
    "plt.legend()"
   ]
  },
  {
   "cell_type": "code",
   "execution_count": 87,
   "metadata": {},
   "outputs": [
    {
     "name": "stdout",
     "output_type": "stream",
     "text": [
      "lambda: 0.1, reg term: 2070.4456799914915, obj value: 2739.213902233741, train error: 1.222956840332517\n"
     ]
    }
   ],
   "source": [
    "#best loocv error is at lamda 0.1 so for that lamda \n",
    "#regularization term is \n",
    "reg_term = 0.1 * np.dot(ws[1].T,ws[1])\n",
    "obj_value = ofs[1]\n",
    "training_error = train_error[1]\n",
    "print(\"lambda: {}, reg term: {}, obj value: {}, train error: {}\".format(0.1,reg_term,obj_value,training_error))"
   ]
  },
  {
   "cell_type": "code",
   "execution_count": 90,
   "metadata": {},
   "outputs": [],
   "source": [
    "sorted_w = np.argsort(ws[1])"
   ]
  },
  {
   "cell_type": "code",
   "execution_count": 110,
   "metadata": {},
   "outputs": [
    {
     "name": "stdout",
     "output_type": "stream",
     "text": [
      "smallest weight with feature\n",
      "weight: -7.015676947819884, feature [array(['bubbles', nan, nan], dtype=object)]\n",
      "weight: -6.542199864218219, feature [array(['blend', 'zinfandel', nan], dtype=object)]\n",
      "weight: -6.5365268212769365, feature [array(['dinner', nan, nan], dtype=object)]\n",
      "weight: -6.330423664541442, feature [array(['apple', nan, nan], dtype=object)]\n",
      "weight: -6.252449490881439, feature [array(['quickly', nan, nan], dtype=object)]\n",
      "weight: -6.230890624760605, feature [array(['boasts', nan, nan], dtype=object)]\n",
      "weight: -6.184702316076482, feature [array(['rusticity', nan, nan], dtype=object)]\n",
      "weight: -6.165353750446684, feature [array(['lovely', nan, nan], dtype=object)]\n",
      "weight: -6.081407099261924, feature [array(['blend', 'merlot', 'cabernet'], dtype=object)]\n",
      "weight: -6.066012269939591, feature [array(['roll', nan, nan], dtype=object)]\n",
      "largest weight with feature\n",
      "weight: 8.203320767973423, feature [array(['large', nan, nan], dtype=object)]\n",
      "weight: 8.261576538749363, feature [array(['sweet', 'black', nan], dtype=object)]\n",
      "weight: 8.356558495052127, feature [array(['chunky', nan, nan], dtype=object)]\n",
      "weight: 8.811344773499428, feature [array(['pineapple', 'orange', nan], dtype=object)]\n",
      "weight: 9.153940483441033, feature [array(['truly', nan, nan], dtype=object)]\n",
      "weight: 9.692572935709677, feature [array(['huge', nan, nan], dtype=object)]\n",
      "weight: 9.831572651928582, feature [array(['ageability', nan, nan], dtype=object)]\n",
      "weight: 9.919020155196904, feature [array(['lifesaver', nan, nan], dtype=object)]\n",
      "weight: 10.297253467812979, feature [array(['add', nan, nan], dtype=object)]\n",
      "weight: 12.335001914344502, feature [array(['lingering', 'finish', nan], dtype=object)]\n"
     ]
    }
   ],
   "source": [
    "sorted_w[0:10]\n",
    "W = ws[1]\n",
    "print(\"smallest weight with feature\")\n",
    "for i in sorted_w[0:10]:\n",
    "    print(\"weight: {}, feature {}\".format(W[i],[features1[i]]))\n",
    "print(\"largest weight with feature\")   \n",
    "for i in sorted_w[2990:3000]:\n",
    "     print(\"weight: {}, feature {}\".format(W[i],[features1[i]]))"
   ]
  },
  {
   "cell_type": "code",
   "execution_count": 96,
   "metadata": {},
   "outputs": [],
   "source": [
    "features = pd.read_csv('featureTypes.txt', sep=\" \", header=None)"
   ]
  },
  {
   "cell_type": "code",
   "execution_count": 104,
   "metadata": {},
   "outputs": [],
   "source": [
    "features1 = features.values"
   ]
  },
  {
   "cell_type": "code",
   "execution_count": 105,
   "metadata": {},
   "outputs": [
    {
     "name": "stdout",
     "output_type": "stream",
     "text": [
      "['bubbles' nan nan]\n",
      "['blend' 'zinfandel' nan]\n",
      "['dinner' nan nan]\n",
      "['apple' nan nan]\n",
      "['quickly' nan nan]\n",
      "['boasts' nan nan]\n",
      "['rusticity' nan nan]\n",
      "['lovely' nan nan]\n",
      "['blend' 'merlot' 'cabernet']\n",
      "['roll' nan nan]\n"
     ]
    }
   ],
   "source": [
    "for i in sorted_w[0:10]:\n",
    "    print(features1[i])"
   ]
  },
  {
   "cell_type": "code",
   "execution_count": 107,
   "metadata": {},
   "outputs": [
    {
     "name": "stdout",
     "output_type": "stream",
     "text": [
      "largest w\n",
      "['large' nan nan]\n",
      "['sweet' 'black' nan]\n",
      "['chunky' nan nan]\n",
      "['pineapple' 'orange' nan]\n",
      "['truly' nan nan]\n",
      "['huge' nan nan]\n",
      "['ageability' nan nan]\n",
      "['lifesaver' nan nan]\n",
      "['add' nan nan]\n",
      "['lingering' 'finish' nan]\n"
     ]
    }
   ],
   "source": [
    "print(\"largest w\")   \n",
    "for i in sorted_w[2990:3000]:\n",
    "    print(features1[i])"
   ]
  },
  {
   "cell_type": "code",
   "execution_count": 111,
   "metadata": {},
   "outputs": [],
   "source": [
    "#I am trying kaggle cahlange for one last time"
   ]
  },
  {
   "cell_type": "code",
   "execution_count": 112,
   "metadata": {},
   "outputs": [],
   "source": [
    "W = ws[1]"
   ]
  },
  {
   "cell_type": "code",
   "execution_count": 113,
   "metadata": {},
   "outputs": [],
   "source": [
    "a = 0.1 * (np.dot(W.T,W))"
   ]
  },
  {
   "cell_type": "code",
   "execution_count": 114,
   "metadata": {},
   "outputs": [
    {
     "data": {
      "text/plain": [
       "2070.4456799914915"
      ]
     },
     "execution_count": 114,
     "metadata": {},
     "output_type": "execute_result"
    }
   ],
   "source": [
    "a"
   ]
  },
  {
   "cell_type": "code",
   "execution_count": null,
   "metadata": {},
   "outputs": [],
   "source": []
  }
 ],
 "metadata": {
  "kernelspec": {
   "display_name": "Python 3",
   "language": "python",
   "name": "python3"
  },
  "language_info": {
   "codemirror_mode": {
    "name": "ipython",
    "version": 3
   },
   "file_extension": ".py",
   "mimetype": "text/x-python",
   "name": "python",
   "nbconvert_exporter": "python",
   "pygments_lexer": "ipython3",
   "version": "3.5.2"
  }
 },
 "nbformat": 4,
 "nbformat_minor": 2
}
